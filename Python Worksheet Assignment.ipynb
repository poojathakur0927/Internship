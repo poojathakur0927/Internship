{
 "cells": [
  {
   "cell_type": "code",
   "execution_count": 3,
   "id": "68f86a29",
   "metadata": {},
   "outputs": [
    {
     "name": "stdout",
     "output_type": "stream",
     "text": [
      "Enter any number: 3\n",
      "The factorical of 3 is 1\n",
      "The factorical of 3 is 2\n",
      "The factorical of 3 is 6\n"
     ]
    }
   ],
   "source": [
    "#Find the factorial number\n",
    "\n",
    "number = int(input(\"Enter any number: \"))\n",
    "Fact = 1\n",
    "for i in range(1, number + 1):\n",
    "    Fact = Fact * i\n",
    "    print (\"The factorical of\",number, \"is\",Fact)\n",
    "           \n",
    "           \n",
    "           "
   ]
  },
  {
   "cell_type": "code",
   "execution_count": 7,
   "id": "3cbd3d59",
   "metadata": {},
   "outputs": [
    {
     "name": "stdout",
     "output_type": "stream",
     "text": [
      "Enter any number:141\n",
      "141 is not prime but composite number\n"
     ]
    }
   ],
   "source": [
    "#Check whether a number is prime or composite\n",
    "\n",
    "n = int(input(\"Enter any number:\"))\n",
    "if(n == 0 or n == 1):\n",
    "    print(n, \"Number is neither prime nor composite\")\n",
    "elif n>1:\n",
    "    for i in range(2,n):\n",
    "        if(n%i ==0):\n",
    "            print (n,\"is not prime but composite number\")\n",
    "            break\n",
    "    else:\n",
    "        print (n,\"number is prime but not composite number\")\n",
    "else:\n",
    "    print (\"Please enter positive number only\")"
   ]
  },
  {
   "cell_type": "code",
   "execution_count": 8,
   "id": "ad3be3d6",
   "metadata": {},
   "outputs": [
    {
     "name": "stdout",
     "output_type": "stream",
     "text": [
      "Given string:  Pooja\n",
      "No\n"
     ]
    }
   ],
   "source": [
    "#Given string is Palindrome or not\n",
    "\n",
    "def isPalindrome (s):\n",
    "    return s == s[::-1]\n",
    "s = \"Pooja\"\n",
    "print(\"Given string: \", s)\n",
    "ans = isPalindrome (s)\n",
    "\n",
    "if ans:\n",
    "    print('Yes')\n",
    "else:\n",
    "    print('No')"
   ]
  },
  {
   "cell_type": "code",
   "execution_count": 15,
   "id": "ef0294d8",
   "metadata": {},
   "outputs": [
    {
     "name": "stdout",
     "output_type": "stream",
     "text": [
      "Enter base: 20.0\n",
      "Enter height: 10.0\n",
      "22.360679774997898\n"
     ]
    }
   ],
   "source": [
    "#Third side of right-angled triangle from two given sides\n",
    "\n",
    "import math\n",
    "a = float(input(\"Enter base: \"))\n",
    "b = float(input(\"Enter height: \"))\n",
    "\n",
    "c = math.sqrt(a**2 + b**2)\n",
    "print (c)"
   ]
  },
  {
   "cell_type": "code",
   "execution_count": 16,
   "id": "55a62d69",
   "metadata": {},
   "outputs": [
    {
     "name": "stdout",
     "output_type": "stream",
     "text": [
      "Given string: Pooja\n",
      "The frequency of each of the characters present in a given string: \n",
      " {'a': 1, 'j': 1, 'P': 1, 'o': 2}\n"
     ]
    }
   ],
   "source": [
    "#The frequency of each of the characters present in given string\n",
    "\n",
    "s = \"Pooja\"\n",
    "print(\"Given string:\", s)\n",
    "res = {}\n",
    "\n",
    "res = {n: strA.count(n) for n in set(strA)}\n",
    "print(\"The frequency of each of the characters present in a given string: \\n\", res)"
   ]
  },
  {
   "cell_type": "code",
   "execution_count": null,
   "id": "acf489be",
   "metadata": {},
   "outputs": [],
   "source": []
  }
 ],
 "metadata": {
  "kernelspec": {
   "display_name": "Python 3 (ipykernel)",
   "language": "python",
   "name": "python3"
  },
  "language_info": {
   "codemirror_mode": {
    "name": "ipython",
    "version": 3
   },
   "file_extension": ".py",
   "mimetype": "text/x-python",
   "name": "python",
   "nbconvert_exporter": "python",
   "pygments_lexer": "ipython3",
   "version": "3.9.7"
  }
 },
 "nbformat": 4,
 "nbformat_minor": 5
}
